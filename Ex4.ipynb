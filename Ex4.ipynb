{
  "nbformat": 4,
  "nbformat_minor": 0,
  "metadata": {
    "colab": {
      "name": "Ex3.ipynb",
      "provenance": [],
      "authorship_tag": "ABX9TyPuS833HVs3E1+rhyb96amv",
      "include_colab_link": true
    },
    "kernelspec": {
      "name": "python3",
      "display_name": "Python 3"
    }
  },
  "cells": [
    {
      "cell_type": "markdown",
      "metadata": {
        "id": "view-in-github",
        "colab_type": "text"
      },
      "source": [
        "<a href=\"https://colab.research.google.com/github/4hasan/Python/blob/master/Ex4.ipynb\" target=\"_parent\"><img src=\"https://colab.research.google.com/assets/colab-badge.svg\" alt=\"Open In Colab\"/></a>"
      ]
    },
    {
      "cell_type": "code",
      "metadata": {
        "id": "56sGeD6zSZwx"
      },
      "source": [
        "#Faça um Programa que peça dois números e imprima a soma.\r\n",
        "\r\n",
        "# Variavel que vai armazenar um número inteiro\r\n",
        "n1 = int(input('Digite um número: '))\r\n",
        "\r\n",
        "#Variavel que vai armazenar outro número inteiro\r\n",
        "n2 = int(input('Dgite outro número: '))\r\n",
        "\r\n",
        "#imprimindo a soma das variaveis n1 + n2\r\n",
        "print(f'A soma dos dois números é de : {n1+n2}')"
      ],
      "execution_count": null,
      "outputs": []
    }
  ]
}