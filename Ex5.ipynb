{
  "nbformat": 4,
  "nbformat_minor": 0,
  "metadata": {
    "colab": {
      "name": "Ex3.ipynb",
      "provenance": [],
      "authorship_tag": "ABX9TyO9eqh/TeHIxrf4cMnQRxsw",
      "include_colab_link": true
    },
    "kernelspec": {
      "name": "python3",
      "display_name": "Python 3"
    }
  },
  "cells": [
    {
      "cell_type": "markdown",
      "metadata": {
        "id": "view-in-github",
        "colab_type": "text"
      },
      "source": [
        "<a href=\"https://colab.research.google.com/github/4hasan/Python/blob/master/Ex5.ipynb\" target=\"_parent\"><img src=\"https://colab.research.google.com/assets/colab-badge.svg\" alt=\"Open In Colab\"/></a>"
      ]
    },
    {
      "cell_type": "code",
      "metadata": {
        "id": "56sGeD6zSZwx"
      },
      "source": [
        "#Faça um Programa que peça as 4 notas bimestrais e mostre a média.\r\n",
        "\r\n",
        "# Variavel que vai armazenar o valor flutuante da n1\r\n",
        "n1 = float(input('Digite a sua nota :'))\r\n",
        "# Variavel que vai armazenar o valor flutuante da n2\r\n",
        "n2 = float(input('Digite outra nota :'))\r\n",
        "# Variavel que vai armazenar o valor flutuante da n3\r\n",
        "n3 = float(input('Digite outra nota :'))\r\n",
        "# Variavel que vai armazenar o valor flutuante da n4\r\n",
        "n4 = float(input('Digite outra nota :'))\r\n",
        "\r\n",
        "# Variavel que vai armazenar a média das notas\r\n",
        "media = (n1+n2+n3+n4) / 4\r\n",
        "\r\n",
        "# Imprimindo os valores das notas + média\r\n",
        "print(f'A média das notas n1: {n1} n2: {n2} n3: {n3} e n4: {n4} é de {media}')"
      ],
      "execution_count": null,
      "outputs": []
    }
  ]
}