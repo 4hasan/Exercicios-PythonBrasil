{
  "nbformat": 4,
  "nbformat_minor": 0,
  "metadata": {
    "colab": {
      "name": "Ex3.ipynb",
      "provenance": [],
      "authorship_tag": "ABX9TyOIzk/vu0woSYcFb3OAu+LD",
      "include_colab_link": true
    },
    "kernelspec": {
      "name": "python3",
      "display_name": "Python 3"
    }
  },
  "cells": [
    {
      "cell_type": "markdown",
      "metadata": {
        "id": "view-in-github",
        "colab_type": "text"
      },
      "source": [
        "<a href=\"https://colab.research.google.com/github/4hasan/Python/blob/master/Ex10.ipynb\" target=\"_parent\"><img src=\"https://colab.research.google.com/assets/colab-badge.svg\" alt=\"Open In Colab\"/></a>"
      ]
    },
    {
      "cell_type": "code",
      "metadata": {
        "id": "56sGeD6zSZwx"
      },
      "source": [
        "#Faça um Programa que peça a temperatura em graus Fahrenheit, transforme e mostre a temperatura em graus Celsius.\r\n",
        "\r\n",
        "# Variavel que vai armazenar a temperatura em Fahrenheit\r\n",
        "F = float(input('Digite a temperatura em Fahrenheit: '))\r\n",
        "\r\n",
        "# Variavel que vai fazer a conversão de Fahrenheit para Celsius.\r\n",
        "C = 5 * ((F-32) / 9)\r\n",
        "\r\n",
        "# Vai imprimir na tela a conversão de Fahrenheit para Celsius.\r\n",
        "print(f'A temperatura em celsius é de : {C}')\r\n"
      ],
      "execution_count": null,
      "outputs": []
    }
  ]
}