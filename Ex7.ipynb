{
  "nbformat": 4,
  "nbformat_minor": 0,
  "metadata": {
    "colab": {
      "name": "Ex3.ipynb",
      "provenance": [],
      "authorship_tag": "ABX9TyPOcNyFeG8KeiCWwhQ1Xhpj",
      "include_colab_link": true
    },
    "kernelspec": {
      "name": "python3",
      "display_name": "Python 3"
    }
  },
  "cells": [
    {
      "cell_type": "markdown",
      "metadata": {
        "id": "view-in-github",
        "colab_type": "text"
      },
      "source": [
        "<a href=\"https://colab.research.google.com/github/4hasan/Python/blob/master/Ex7.ipynb\" target=\"_parent\"><img src=\"https://colab.research.google.com/assets/colab-badge.svg\" alt=\"Open In Colab\"/></a>"
      ]
    },
    {
      "cell_type": "code",
      "metadata": {
        "id": "56sGeD6zSZwx"
      },
      "source": [
        "#Faça um Programa que peça o raio de um círculo, calcule e mostre sua área.\r\n",
        "\r\n",
        "# Variavel que vai armazenar o raio\r\n",
        "raio = float(input('Digite o raio: '))\r\n",
        "\r\n",
        "#Variavel que vai armazenar o valor do PI\r\n",
        "pi = 3.14\r\n",
        "\r\n",
        "#Variavel que vai armazenar o calculo da area que é o PI * (raio * raio)\r\n",
        "area = 3.14 * (raio*raio)\r\n",
        "\r\n",
        "#Variavel que vai imprimir o valor da area\r\n",
        "print(f'A área do circulo é de : {area}')\r\n"
      ],
      "execution_count": null,
      "outputs": []
    }
  ]
}