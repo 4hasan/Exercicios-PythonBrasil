{
  "nbformat": 4,
  "nbformat_minor": 0,
  "metadata": {
    "colab": {
      "name": "Ex3.ipynb",
      "provenance": [],
      "authorship_tag": "ABX9TyNHoHHUBo3plJJ//IaCLHab",
      "include_colab_link": true
    },
    "kernelspec": {
      "name": "python3",
      "display_name": "Python 3"
    }
  },
  "cells": [
    {
      "cell_type": "markdown",
      "metadata": {
        "id": "view-in-github",
        "colab_type": "text"
      },
      "source": [
        "<a href=\"https://colab.research.google.com/github/4hasan/Python/blob/master/Ex6.ipynb\" target=\"_parent\"><img src=\"https://colab.research.google.com/assets/colab-badge.svg\" alt=\"Open In Colab\"/></a>"
      ]
    },
    {
      "cell_type": "code",
      "metadata": {
        "id": "56sGeD6zSZwx"
      },
      "source": [
        "#Faça um Programa que converta metros para centímetros.\r\n",
        "\r\n",
        "# Variavel que vai armazenar o valor dos metros\r\n",
        "metros = float(input('Digite a quantidades em metros: '))\r\n",
        "\r\n",
        "# Variavel que vai armazenar a conversão dos metros para centimetros\r\n",
        "metros_centimetros = metros*100\r\n",
        "\r\n",
        "# Vai imprimir na tela o resultado da conversão\r\n",
        "print(f'A conversão de metros para centimetros é de : {metros_centimetros}')"
      ],
      "execution_count": null,
      "outputs": []
    }
  ]
}