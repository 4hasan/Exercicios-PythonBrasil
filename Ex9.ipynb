{
  "nbformat": 4,
  "nbformat_minor": 0,
  "metadata": {
    "colab": {
      "name": "Ex3.ipynb",
      "provenance": [],
      "authorship_tag": "ABX9TyMoOvlrnCMb1IhDRek5zrLX",
      "include_colab_link": true
    },
    "kernelspec": {
      "name": "python3",
      "display_name": "Python 3"
    }
  },
  "cells": [
    {
      "cell_type": "markdown",
      "metadata": {
        "id": "view-in-github",
        "colab_type": "text"
      },
      "source": [
        "<a href=\"https://colab.research.google.com/github/4hasan/Python/blob/master/Ex9.ipynb\" target=\"_parent\"><img src=\"https://colab.research.google.com/assets/colab-badge.svg\" alt=\"Open In Colab\"/></a>"
      ]
    },
    {
      "cell_type": "code",
      "metadata": {
        "id": "56sGeD6zSZwx"
      },
      "source": [
        "#Faça um Programa que pergunte quanto você ganha por hora e o número de horas trabalhadas no mês. Calcule e mostre o total do seu salário no referido mês.\r\n",
        "\r\n",
        "# Variavel que vai armazenar o valor que você recebe por hora\r\n",
        "valor_hora = float(input('Digite o valor que você recebe por hora R$ : '))\r\n",
        "\r\n",
        "# Variavel que vai armazenar a quantidade de horas que você trabalha no dia\r\n",
        "qtd_hora = float(input('Digite a quantidade horas trabalhadas no dia : '))\r\n",
        "\r\n",
        "# Variavel que vai calcular o valor do salário final\r\n",
        "valor_mes = (valor_hora * qtd_hora)*30\r\n",
        "\r\n",
        "# Vai imprimir na tela as variaveis valor_hora + qtd_hora + valor_mes\r\n",
        "print(f'Valor recebido por hora R$: {valor_hora} quantidades de horas trabalhadas {qtd_hora} , Sálario referente ao mês R$: {valor_mes}')\r\n",
        "\r\n"
      ],
      "execution_count": null,
      "outputs": []
    }
  ]
}