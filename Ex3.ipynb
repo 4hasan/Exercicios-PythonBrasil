{
  "nbformat": 4,
  "nbformat_minor": 0,
  "metadata": {
    "colab": {
      "name": "Ex3.ipynb",
      "provenance": [],
      "authorship_tag": "ABX9TyMGHyXiIYtslmU01F/VGRua",
      "include_colab_link": true
    },
    "kernelspec": {
      "name": "python3",
      "display_name": "Python 3"
    }
  },
  "cells": [
    {
      "cell_type": "markdown",
      "metadata": {
        "id": "view-in-github",
        "colab_type": "text"
      },
      "source": [
        "<a href=\"https://colab.research.google.com/github/4hasan/Python/blob/master/Ex3.ipynb\" target=\"_parent\"><img src=\"https://colab.research.google.com/assets/colab-badge.svg\" alt=\"Open In Colab\"/></a>"
      ]
    },
    {
      "cell_type": "code",
      "metadata": {
        "colab": {
          "base_uri": "https://localhost:8080/"
        },
        "id": "56sGeD6zSZwx",
        "outputId": "5bf5b968-197d-46a7-f862-517ceb503bff"
      },
      "source": [
        "#Faça um Programa que peça um número e então mostre a mensagem O número informado foi [número].\r\n",
        "\r\n",
        "#Variavel que vai armazenar um número inteiro\r\n",
        "numero = int(input('Digite um número'))\r\n",
        "\r\n",
        "print(numero)\r\n",
        "\r\n",
        "\r\n"
      ],
      "execution_count": 24,
      "outputs": [
        {
          "output_type": "stream",
          "text": [
            "Digite um número4\n",
            "4\n"
          ],
          "name": "stdout"
        }
      ]
    }
  ]
}