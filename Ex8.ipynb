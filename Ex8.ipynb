{
  "nbformat": 4,
  "nbformat_minor": 0,
  "metadata": {
    "colab": {
      "name": "Ex3.ipynb",
      "provenance": [],
      "authorship_tag": "ABX9TyPxJQcBlD6oBvEeCj4O8Nyr",
      "include_colab_link": true
    },
    "kernelspec": {
      "name": "python3",
      "display_name": "Python 3"
    }
  },
  "cells": [
    {
      "cell_type": "markdown",
      "metadata": {
        "id": "view-in-github",
        "colab_type": "text"
      },
      "source": [
        "<a href=\"https://colab.research.google.com/github/4hasan/Python/blob/master/Ex8.ipynb\" target=\"_parent\"><img src=\"https://colab.research.google.com/assets/colab-badge.svg\" alt=\"Open In Colab\"/></a>"
      ]
    },
    {
      "cell_type": "code",
      "metadata": {
        "id": "56sGeD6zSZwx"
      },
      "source": [
        "#Faça um Programa que calcule a área de um quadrado, em seguida mostre o dobro desta área para o usuário.\r\n",
        "\r\n",
        "# Variavel que vai armazenar o lado de um quadrado\r\n",
        "lado = int(input('Digite o valor do lado do quadrado: '))\r\n",
        "\r\n",
        "# variavel que vai armazenar a area de um quadrado\r\n",
        "area = lado * lado\r\n",
        "\r\n",
        "# Variavel que vai armazenar o dobro da area\r\n",
        "dobro_area = area * area\r\n",
        "\r\n",
        "# Vai imprimr na tela o valor da Área e o valor do dobro da Área\r\n",
        "print(f'A área de um quadrado é de: {area} e o dobro da área de um quadro é de {dobro_area}')"
      ],
      "execution_count": null,
      "outputs": []
    }
  ]
}