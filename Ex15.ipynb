{
  "nbformat": 4,
  "nbformat_minor": 0,
  "metadata": {
    "colab": {
      "name": "Untitled18.ipynb",
      "provenance": [],
      "authorship_tag": "ABX9TyN3S53ugj0KjTUFQXptKhT1",
      "include_colab_link": true
    },
    "kernelspec": {
      "name": "python3",
      "display_name": "Python 3"
    }
  },
  "cells": [
    {
      "cell_type": "markdown",
      "metadata": {
        "id": "view-in-github",
        "colab_type": "text"
      },
      "source": [
        "<a href=\"https://colab.research.google.com/github/4hasan/Exercicios-PythonBrasil/blob/master/Ex15.ipynb\" target=\"_parent\"><img src=\"https://colab.research.google.com/assets/colab-badge.svg\" alt=\"Open In Colab\"/></a>"
      ]
    },
    {
      "cell_type": "code",
      "metadata": {
        "id": "g0s4Z4ZTgdKu"
      },
      "source": [
        "#Faça um Programa que pergunte quanto você ganha por hora e o número de horas trabalhadas no mês. \r\n",
        "#Calcule e mostre o total do seu salário no referido mês, sabendo-se que são descontados 11% para o Imposto de Renda, 8% para o INSS e 5% para o sindicato, \r\n",
        "#faça um programa que nos dê:\r\n",
        "#salário bruto \r\n",
        "#quanto pagou ao INSS.\r\n",
        "#quanto pagou ao sindicato.\r\n",
        "#o salário líquido.\r\n",
        "\r\n",
        "# Variavel que vai armazenar o valor da hora\r\n",
        "valor_hora = float(input('Digite o valor que você recebe por hora R$: '))\r\n",
        "#Variavel que vai armazenar o total de horas trabalhadas\r\n",
        "horas_tb = int(input('Digite a quantidade de horas trabalhadas no mês: : '))\r\n",
        "#Variavel que vai armazenar o salário bruto\r\n",
        "salario_bruto = horas_tb * valor_hora\r\n",
        "# Variavel que vai armazenar o desconto de 8% do inss\r\n",
        "inss =  (salario_bruto * 8 /100)\r\n",
        "# Variavel que vai armazenar o desconto de 11% do imposto de renda\r\n",
        "ir = (salario_bruto * 11 / 100)\r\n",
        "# Variavel que vai armazenar o desconto de 5% do sindicato\r\n",
        "sin = (salario_bruto * 5 / 100)\r\n",
        "# Variavel que vai armazenar o Salario liquido Vai ser o salario bruto - inss - imposto de renda - sindicato\r\n",
        "salario_liquido = (salario_bruto - inss - ir - sin)\r\n",
        "# Vai imprimir na tela a variavel do salário bruto e do salário liquido\r\n",
        "print(f'O Salário bruto é de R$: {salario_bruto}, o Salário liquido é de R$: {salario_liquido} ')\r\n",
        "\r\n"
      ],
      "execution_count": null,
      "outputs": []
    }
  ]
}