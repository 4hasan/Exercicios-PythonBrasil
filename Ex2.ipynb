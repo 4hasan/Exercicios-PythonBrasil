{
  "nbformat": 4,
  "nbformat_minor": 0,
  "metadata": {
    "colab": {
      "name": "Ex2.ipynb",
      "provenance": []
    },
    "kernelspec": {
      "name": "python3",
      "display_name": "Python 3"
    }
  },
  "cells": [
    {
      "cell_type": "code",
      "metadata": {
        "id": "56sGeD6zSZwx"
      },
      "source": [
        "# Conversor de moeda\r\n",
        "\r\n",
        "# Variavel que vai armazenar o valor passado pelo usuario\r\n",
        "real = float(input('Digite o valor que tem em sua carteira'))\r\n",
        "\r\n",
        "# Variavel que vai fazer a conversão do real para dollar\r\n",
        "dollar = real / 5.42\r\n",
        "\r\n",
        "#Vai imprimir o valor das variaveis dollar e real\r\n",
        "print(f'Você pode comprar {dollar} com R$ : {real}')\r\n"
      ],
      "execution_count": null,
      "outputs": []
    }
  ]
}